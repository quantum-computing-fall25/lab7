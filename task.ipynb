{
 "cells": [
  {
   "cell_type": "markdown",
   "metadata": {},
   "source": [
    " # Lab 7"
   ]
  },
  {
   "cell_type": "markdown",
   "metadata": {},
   "source": [
    "## Note\n",
    "\n",
    "The qubit convention in qiskit is right to left.\n",
    "\n",
    "For example, $|100\\rangle$ decomposition is as follows:\n",
    "\n",
    "$q_0 = 0$\n",
    "\n",
    "$q_1 = 0$\n",
    "\n",
    "$q_2 = 1$"
   ]
  },
  {
   "cell_type": "markdown",
   "metadata": {},
   "source": [
    " ## Imports\n",
    "\n",
    "\n",
    "\n",
    " Run this first to import all necessary libraries:"
   ]
  },
  {
   "cell_type": "code",
   "execution_count": null,
   "metadata": {},
   "outputs": [],
   "source": [
    "from qiskit import QuantumCircuit, QuantumRegister, ClassicalRegister, transpile\n",
    "from qiskit_ibm_runtime import SamplerV2\n",
    "from qiskit_ibm_runtime.fake_provider import FakeBrisbane, FakeManilaV2, FakeLondonV2, FakeLimaV2, FakeNairobiV2\n",
    "from qiskit.visualization import plot_histogram"
   ]
  },
  {
   "cell_type": "markdown",
   "metadata": {},
   "source": [
    "## Basic"
   ]
  },
  {
   "cell_type": "code",
   "execution_count": null,
   "metadata": {},
   "outputs": [],
   "source": [
    "creg = ClassicalRegister(2, 'c')\n",
    "qreg = QuantumRegister(2, 'q')\n",
    "\n",
    "qc = QuantumCircuit(qreg, creg)\n",
    "\n",
    "qc.h(0)\n",
    "qc.cx(0, 1)\n",
    "\n",
    "qc.measure(qreg, creg)\n",
    "\n",
    "qc.draw('mpl')"
   ]
  },
  {
   "cell_type": "code",
   "execution_count": null,
   "metadata": {},
   "outputs": [],
   "source": [
    "# Draw the transpiled circuit using Manila V2 backend\n",
    "backend = FakeManilaV2()\n",
    "\n",
    "sampler = SamplerV2(backend)\n",
    "transpiled_qc = transpile(qc, backend)\n",
    "\n",
    "transpiled_qc.draw('mpl')"
   ]
  },
  {
   "cell_type": "code",
   "execution_count": null,
   "metadata": {},
   "outputs": [],
   "source": [
    "# Execute the transpiled circuit using the SamplerV2\n",
    "job = sampler.run([transpiled_qc], shots=1024)\n",
    "result = job.result()[0]\n",
    "counts_manila = result.join_data().get_counts()\n",
    "plot_histogram(counts_manila)"
   ]
  },
  {
   "cell_type": "code",
   "execution_count": null,
   "metadata": {},
   "outputs": [],
   "source": [
    "# TODO: Repeat the above steps using the FakeBrisbane backend\n",
    "# Draw the circuit and plot the counts histogram and observe the differences in transpiled circuits and counts\n"
   ]
  },
  {
   "cell_type": "code",
   "execution_count": null,
   "metadata": {},
   "outputs": [],
   "source": [
    "# TODO: Show the counts from Brisbane backend\n"
   ]
  },
  {
   "cell_type": "code",
   "execution_count": null,
   "metadata": {},
   "outputs": [],
   "source": [
    "# TODO: Show the counts from both backends in a single histogram\n"
   ]
  },
  {
   "cell_type": "markdown",
   "metadata": {},
   "source": [
    "## More on different backends (Orders of qubits and used gates)"
   ]
  },
  {
   "cell_type": "code",
   "execution_count": null,
   "metadata": {},
   "outputs": [],
   "source": [
    "# TODO: Create a GHZ+ state circuit and draw it\n",
    "creg = ClassicalRegister(3, 'c')\n",
    "qreg = QuantumRegister(3, 'q')\n",
    "qc = QuantumCircuit(qreg, creg)\n",
    "\n"
   ]
  },
  {
   "cell_type": "code",
   "execution_count": null,
   "metadata": {},
   "outputs": [],
   "source": [
    "# TODO: Draw the transpiled circuit using Nairobi V2 backend\n"
   ]
  },
  {
   "cell_type": "code",
   "execution_count": null,
   "metadata": {},
   "outputs": [],
   "source": [
    "# TODO: Draw the transpiled circuit using Lima V2 backend\n"
   ]
  },
  {
   "cell_type": "code",
   "execution_count": null,
   "metadata": {},
   "outputs": [],
   "source": [
    "# TODO: Draw the transpiled circuit using London V2 backend\n",
    "backend = FakeLondonV2()\n"
   ]
  },
  {
   "cell_type": "markdown",
   "metadata": {},
   "source": [
    "**Note**: These transpiled circuits will not run because of the hardware limitations of those backends. Especially, the CX gates won't work because different qubits need to interact with each other."
   ]
  },
  {
   "cell_type": "code",
   "execution_count": null,
   "metadata": {},
   "outputs": [],
   "source": [
    "## TODO: Run this GHZ+ circuit on Brisbane and plot histogram of results\n",
    "backend = FakeBrisbane()\n",
    "# ... continue from here"
   ]
  },
  {
   "cell_type": "markdown",
   "metadata": {},
   "source": [
    "## Optimization Levels"
   ]
  },
  {
   "cell_type": "code",
   "execution_count": null,
   "metadata": {},
   "outputs": [],
   "source": [
    "## TODO: Create your custom SWAP circuit and transpile it on different backends\n",
    "# DO NOT USE THE INBUILT SWAP GATE\n",
    "\n",
    "def swap(circuit, target1, target2):\n",
    "    circuit.barrier(target1, target2)\n",
    "    \n",
    "    ## TODO: ... continue from here\n",
    "\n",
    "    \n",
    "    return circuit"
   ]
  },
  {
   "cell_type": "code",
   "execution_count": null,
   "metadata": {},
   "outputs": [],
   "source": [
    "from numpy import pi\n",
    "\n",
    "## Initial state before SWAP is approx: (0.866|0> + 0.5|1>) |0>\n",
    "qc_initial = QuantumCircuit(2)\n",
    "qc_initial.ry(pi/3, 0)\n",
    "\n",
    "qc_initial.measure_all()\n",
    "qc_initial.draw('mpl')\n"
   ]
  },
  {
   "cell_type": "code",
   "execution_count": null,
   "metadata": {},
   "outputs": [],
   "source": [
    "sampler = SamplerV2(backend)\n",
    "\n",
    "transpiled_qc_initial = transpile(qc_initial, backend)\n",
    "original_result = sampler.run([transpiled_qc_initial], shots=1024).result()[0]\n",
    "original_counts = original_result.join_data().get_counts()\n",
    "plot_histogram(original_counts, title=\"Before SWAP\")"
   ]
  },
  {
   "cell_type": "code",
   "execution_count": null,
   "metadata": {},
   "outputs": [],
   "source": [
    "from numpy import pi\n",
    "\n",
    "## Final state after SWAP should be approx: (0.866|0> + 0.5|1>) |0>\n",
    "qc_after = QuantumCircuit(2)\n",
    "qc_after.ry(pi/3, 0)\n",
    "\n",
    "# Custom SWAP gate applied here (nothing to do here)\n",
    "qc_after = swap(qc_after, 0, 1)\n",
    "\n",
    "qc_after.measure_all()\n",
    "\n",
    "qc_after.draw('mpl')\n"
   ]
  },
  {
   "cell_type": "code",
   "execution_count": null,
   "metadata": {},
   "outputs": [],
   "source": [
    "backend = FakeBrisbane()\n",
    "\n",
    "transpiled_qc_0 = transpile(qc_after, backend, optimization_level=0)\n",
    "transpiled_qc_0.draw('mpl')"
   ]
  },
  {
   "cell_type": "code",
   "execution_count": null,
   "metadata": {},
   "outputs": [],
   "source": [
    "## TODO: Use optimization level 1\n"
   ]
  },
  {
   "cell_type": "code",
   "execution_count": null,
   "metadata": {},
   "outputs": [],
   "source": [
    "## TODO: Use optimization level 2\n"
   ]
  },
  {
   "cell_type": "code",
   "execution_count": null,
   "metadata": {},
   "outputs": [],
   "source": [
    "## TODO: Use optimization level 3\n"
   ]
  },
  {
   "cell_type": "code",
   "execution_count": null,
   "metadata": {},
   "outputs": [],
   "source": [
    "# TODO: Add your transpiled circuits here:\n",
    "transpiled_circuits = [\n",
    "    transpiled_qc_0,\n",
    "    ## ... add rest here\n",
    "]"
   ]
  },
  {
   "cell_type": "code",
   "execution_count": null,
   "metadata": {},
   "outputs": [],
   "source": [
    "# Display histograms of results for all optimization levels\n",
    "sampler = SamplerV2(backend)\n",
    "all_counts = []\n",
    "all_legends = []\n",
    "for i, transpiled_qc in enumerate(transpiled_circuits):\n",
    "    all_legends.append(f\"L{i}\")\n",
    "    transpiled_results = sampler.run([transpiled_qc], shots=1024).result()[0]\n",
    "    transpiled_counts = transpiled_results.join_data().get_counts()\n",
    "    all_counts.append(transpiled_counts)\n",
    "\n",
    "plot_histogram(all_counts, legend=all_legends, title=\"SWAP Circuit Results at Different Optimization Levels\")"
   ]
  }
 ],
 "metadata": {
  "kernelspec": {
   "display_name": ".venv",
   "language": "python",
   "name": "python3"
  },
  "language_info": {
   "codemirror_mode": {
    "name": "ipython",
    "version": 3
   },
   "file_extension": ".py",
   "mimetype": "text/x-python",
   "name": "python",
   "nbconvert_exporter": "python",
   "pygments_lexer": "ipython3",
   "version": "3.13.7"
  }
 },
 "nbformat": 4,
 "nbformat_minor": 2
}
